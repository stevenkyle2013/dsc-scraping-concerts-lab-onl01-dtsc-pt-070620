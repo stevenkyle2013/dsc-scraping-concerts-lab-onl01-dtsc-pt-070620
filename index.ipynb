{
 "cells": [
  {
   "cell_type": "markdown",
   "metadata": {},
   "source": [
    "# Scraping Concerts - Lab\n",
    "\n",
    "## Introduction\n",
    "\n",
    "Now that you've seen how to scrape a simple website, it's time to again practice those skills on a full-fledged site!\n",
    "In this lab, you'll practice your scraping skills on a music website: https://www.residentadvisor.net.\n",
    "## Objectives\n",
    "\n",
    "You will be able to:\n",
    "* Create a full scraping pipeline that involves traversing over many pages of a website, dealing with errors and storing data"
   ]
  },
  {
   "cell_type": "markdown",
   "metadata": {},
   "source": [
    "## View the Website\n",
    "\n",
    "For this lab, you'll be scraping the https://www.residentadvisor.net website. Start by navigating to the events page [here](https://www.residentadvisor.net/events) in your browser.\n",
    "\n",
    "<img src=\"images/ra.png\">"
   ]
  },
  {
   "cell_type": "code",
   "execution_count": null,
   "metadata": {},
   "outputs": [],
   "source": [
    "# Load the https://www.residentadvisor.net/events page in your browser."
   ]
  },
  {
   "cell_type": "markdown",
   "metadata": {},
   "source": [
    "## Open the Inspect Element Feature\n",
    "\n",
    "Next, open the inspect element feature from your web browser in order to preview the underlying HTML associated with the page."
   ]
  },
  {
   "cell_type": "code",
   "execution_count": 8,
   "metadata": {},
   "outputs": [],
   "source": [
    "from bs4 import BeautifulSoup\n",
    "import requests\n",
    "import re\n",
    "import pandas as pd\n",
    "import time\n",
    "import numpy as np"
   ]
  },
  {
   "cell_type": "code",
   "execution_count": 2,
   "metadata": {},
   "outputs": [],
   "source": [
    "htmlpage = requests.get('https://www.residentadvisor.net/events/us/texas')\n",
    "soup = BeautifulSoup(htmlpage.content, 'html.parser')"
   ]
  },
  {
   "cell_type": "code",
   "execution_count": 10,
   "metadata": {},
   "outputs": [],
   "source": [
    "eventlist = soup.find('div', id='event-listing')"
   ]
  },
  {
   "cell_type": "code",
   "execution_count": 48,
   "metadata": {},
   "outputs": [
    {
     "data": {
      "text/plain": [
       "'<li class=\"\">\\n <article class=\"event-item clearfix\" itemscope=\"\" itemtype=\"http://data-vocabulary.org/Event\">\\n  <span style=\"display:none;\">\\n   <time datetime=\"2020-08-17T00:00\" itemprop=\"startDate\">\\n    2020-08-17T00:00\\n   </time>\\n  </span>\\n  <a href=\"/events/1397904\">\\n   <img height=\"76\" src=\"/images/listing-default.gif\" width=\"152\"/>\\n  </a>\\n  <div class=\"bbox\">\\n   <h1 class=\"event-title\" itemprop=\"summary\">\\n    <a href=\"/events/1397904\" itemprop=\"url\" title=\"Event details of The Airport Session Electro-Sax Jams with Noah Peterson\">\\n     The Airport Session Electro-Sax Jams with Noah Peterson\\n    </a>\\n    <span>\\n     at\\n     <a href=\"/club.aspx?id=182539\">\\n      The San Antonio International Airport\\n     </a>\\n    </span>\\n   </h1>\\n   <div class=\"grey event-lineup\">\\n    Noah Peterson\\n   </div>\\n  </div>\\n </article>\\n</li>\\n'"
      ]
     },
     "execution_count": 48,
     "metadata": {},
     "output_type": "execute_result"
    }
   ],
   "source": [
    "events = eventlist.findAll('li')\n",
    "events[1].prettify()"
   ]
  },
  {
   "cell_type": "code",
   "execution_count": 58,
   "metadata": {},
   "outputs": [
    {
     "ename": "AttributeError",
     "evalue": "'NoneType' object has no attribute 'text'",
     "output_type": "error",
     "traceback": [
      "\u001b[0;31m---------------------------------------------------------------------------\u001b[0m",
      "\u001b[0;31mAttributeError\u001b[0m                            Traceback (most recent call last)",
      "\u001b[0;32m<ipython-input-58-22a4367b6ac1>\u001b[0m in \u001b[0;36m<module>\u001b[0;34m\u001b[0m\n\u001b[1;32m      4\u001b[0m \u001b[0meventname\u001b[0m \u001b[0;34m=\u001b[0m \u001b[0meventinfo\u001b[0m\u001b[0;34m.\u001b[0m\u001b[0mtext\u001b[0m\u001b[0;34m.\u001b[0m\u001b[0msplit\u001b[0m\u001b[0;34m(\u001b[0m\u001b[0;34m' at '\u001b[0m\u001b[0;34m)\u001b[0m\u001b[0;34m[\u001b[0m\u001b[0;36m0\u001b[0m\u001b[0;34m]\u001b[0m\u001b[0;34m\u001b[0m\u001b[0;34m\u001b[0m\u001b[0m\n\u001b[1;32m      5\u001b[0m \u001b[0mvenue\u001b[0m \u001b[0;34m=\u001b[0m \u001b[0meventinfo\u001b[0m\u001b[0;34m.\u001b[0m\u001b[0mtext\u001b[0m\u001b[0;34m.\u001b[0m\u001b[0msplit\u001b[0m\u001b[0;34m(\u001b[0m\u001b[0;34m' at '\u001b[0m\u001b[0;34m)\u001b[0m\u001b[0;34m[\u001b[0m\u001b[0;36m1\u001b[0m\u001b[0;34m]\u001b[0m\u001b[0;34m\u001b[0m\u001b[0;34m\u001b[0m\u001b[0m\n\u001b[0;32m----> 6\u001b[0;31m \u001b[0meventname\u001b[0m \u001b[0;34m=\u001b[0m \u001b[0mevents\u001b[0m\u001b[0;34m[\u001b[0m\u001b[0;36m0\u001b[0m\u001b[0;34m]\u001b[0m\u001b[0;34m.\u001b[0m\u001b[0mfind\u001b[0m\u001b[0;34m(\u001b[0m\u001b[0;34m'h1'\u001b[0m\u001b[0;34m,\u001b[0m \u001b[0mclass_\u001b[0m\u001b[0;34m=\u001b[0m\u001b[0;34m'event-title'\u001b[0m\u001b[0;34m)\u001b[0m\u001b[0;34m.\u001b[0m\u001b[0mtext\u001b[0m\u001b[0;34m.\u001b[0m\u001b[0msplit\u001b[0m\u001b[0;34m(\u001b[0m\u001b[0;34m' at '\u001b[0m\u001b[0;34m)\u001b[0m\u001b[0;34m[\u001b[0m\u001b[0;36m0\u001b[0m\u001b[0;34m]\u001b[0m\u001b[0;34m\u001b[0m\u001b[0;34m\u001b[0m\u001b[0m\n\u001b[0m",
      "\u001b[0;31mAttributeError\u001b[0m: 'NoneType' object has no attribute 'text'"
     ]
    }
   ],
   "source": [
    "\n",
    "for event in events:\n",
    "    eventinfo = event.find('h1', class_='event-title')\n",
    "    eventdate = event.find('p', class_='eventDate date')\n",
    "eventname = eventinfo.text.split(' at ')[0]\n",
    "venue = eventinfo.text.split(' at ')[1]\n"
   ]
  },
  {
   "cell_type": "markdown",
   "metadata": {},
   "source": [
    "## Write a Function to Scrape all of the Events on the Given Page Events Page\n",
    "\n",
    "The function should return a Pandas DataFrame with columns for the Event_Name, Venue, Event_Date and Number_of_Attendees."
   ]
  },
  {
   "cell_type": "code",
   "execution_count": 83,
   "metadata": {},
   "outputs": [],
   "source": [
    "\n",
    "rows = []\n",
    "\n",
    "def scrape_events(events_page_url):\n",
    "    htmlpage = requests.get(events_page_url)\n",
    "    soup = BeautifulSoup(htmlpage.content, 'html.parser')\n",
    "    eventlist = soup.find('div', id='event-listing')\n",
    "    events = eventlist.findAll('li')\n",
    "    \n",
    "    \n",
    "    for event in events:\n",
    "        eventinfo = event.find('h1', class_='event-title')\n",
    "        eventdate = event.find('p', class_='eventDate date')\n",
    "        if eventinfo:\n",
    "            try:\n",
    "                eventname = eventinfo.text.split(' at ')[0]\n",
    "            except:\n",
    "                eventname = np.nan\n",
    "            try:\n",
    "                venue = eventinfo.text.split(' at ')[1]\n",
    "            except:\n",
    "                venue = np.nan\n",
    "            try:\n",
    "                attendeenumber = int(re.match(\"(\\d*)\", event.find('p', class_=\"attending\").text)[0])\n",
    "            except:\n",
    "                attendeenumber = np.nan\n",
    "            rows.append([eventname, venue, eventDate, attendeenumber])\n",
    "        elif eventdate:\n",
    "            eventDate = eventdate.text\n",
    "        \n",
    "    df = pd.DataFrame(rows)\n",
    "    df.columns = [\"Event_Name\", \"Venue\", \"Event_Date\", \"Number_of_attendees\"]\n",
    "    return df"
   ]
  },
  {
   "cell_type": "markdown",
   "metadata": {},
   "source": [
    "## Write a Function to Retrieve the URL for the Next Page"
   ]
  },
  {
   "cell_type": "code",
   "execution_count": 85,
   "metadata": {},
   "outputs": [],
   "source": [
    "def next_page(url):\n",
    "    response = requests.get(url)\n",
    "    soup = BeautifulSoup(response.content, 'html.parser')\n",
    "    url_next = soup.find('a', attrs={'ga-event-action':\"Next \"}).attrs['href']\n",
    "    next_page_url = \"https://www.residentadvisor.net\" + url_next\n",
    "    return next_page_url"
   ]
  },
  {
   "cell_type": "markdown",
   "metadata": {},
   "source": [
    "## Scrape the Next 1000 Events for Your Area\n",
    "\n",
    "Display the data sorted by the number of attendees. If there is a tie for the number attending, sort by event date."
   ]
  },
  {
   "cell_type": "code",
   "execution_count": 92,
   "metadata": {},
   "outputs": [
    {
     "data": {
      "text/html": [
       "<div>\n",
       "<style scoped>\n",
       "    .dataframe tbody tr th:only-of-type {\n",
       "        vertical-align: middle;\n",
       "    }\n",
       "\n",
       "    .dataframe tbody tr th {\n",
       "        vertical-align: top;\n",
       "    }\n",
       "\n",
       "    .dataframe thead th {\n",
       "        text-align: right;\n",
       "    }\n",
       "</style>\n",
       "<table border=\"1\" class=\"dataframe\">\n",
       "  <thead>\n",
       "    <tr style=\"text-align: right;\">\n",
       "      <th></th>\n",
       "      <th>Event_Name</th>\n",
       "      <th>Venue</th>\n",
       "      <th>Event_Date</th>\n",
       "      <th>Number_of_attendees</th>\n",
       "    </tr>\n",
       "  </thead>\n",
       "  <tbody>\n",
       "    <tr>\n",
       "      <th>0</th>\n",
       "      <td>The Airport Session Electro-Sax Jams with Noah...</td>\n",
       "      <td>The San Antonio International Airport</td>\n",
       "      <td>Mon, 17 Aug 2020 /</td>\n",
       "      <td>NaN</td>\n",
       "    </tr>\n",
       "    <tr>\n",
       "      <th>0</th>\n",
       "      <td>The Airport Session Electro-Sax Jams with Noah...</td>\n",
       "      <td>The San Antonio International Airport</td>\n",
       "      <td>Mon, 17 Aug 2020 /</td>\n",
       "      <td>NaN</td>\n",
       "    </tr>\n",
       "    <tr>\n",
       "      <th>1</th>\n",
       "      <td>Third Fridays with Noah Peterson</td>\n",
       "      <td>Sanchos Cantina</td>\n",
       "      <td>Fri, 21 Aug 2020 /</td>\n",
       "      <td>1.0</td>\n",
       "    </tr>\n",
       "  </tbody>\n",
       "</table>\n",
       "</div>"
      ],
      "text/plain": [
       "                                          Event_Name  \\\n",
       "0  The Airport Session Electro-Sax Jams with Noah...   \n",
       "0  The Airport Session Electro-Sax Jams with Noah...   \n",
       "1                   Third Fridays with Noah Peterson   \n",
       "\n",
       "                                   Venue          Event_Date  \\\n",
       "0  The San Antonio International Airport  Mon, 17 Aug 2020 /   \n",
       "0  The San Antonio International Airport  Mon, 17 Aug 2020 /   \n",
       "1                        Sanchos Cantina  Fri, 21 Aug 2020 /   \n",
       "\n",
       "   Number_of_attendees  \n",
       "0                  NaN  \n",
       "0                  NaN  \n",
       "1                  1.0  "
      ]
     },
     "execution_count": 92,
     "metadata": {},
     "output_type": "execute_result"
    }
   ],
   "source": [
    "rows = []\n",
    "dfs = []\n",
    "df = []\n",
    "startrow = 0\n",
    "url = 'https://www.residentadvisor.net/events/us/texas'\n",
    "\n",
    "while startrow <= 2:\n",
    "    df = scrape_events(url)\n",
    "    dfs.append(df)\n",
    "    startrow += len(df)\n",
    "    url = next_page(url)\n",
    "    time.sleep(.5)\n",
    "df = pd.concat(dfs)\n",
    "df.head()"
   ]
  },
  {
   "cell_type": "markdown",
   "metadata": {},
   "source": [
    "## Summary \n",
    "\n",
    "Congratulations! In this lab, you successfully developed a pipeline to scrape a website for concert event information!"
   ]
  }
 ],
 "metadata": {
  "kernelspec": {
   "display_name": "Python 3",
   "language": "python",
   "name": "python3"
  },
  "language_info": {
   "codemirror_mode": {
    "name": "ipython",
    "version": 3
   },
   "file_extension": ".py",
   "mimetype": "text/x-python",
   "name": "python",
   "nbconvert_exporter": "python",
   "pygments_lexer": "ipython3",
   "version": "3.6.9"
  }
 },
 "nbformat": 4,
 "nbformat_minor": 2
}
